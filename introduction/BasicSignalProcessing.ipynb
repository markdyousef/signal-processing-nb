{
 "cells": [
  {
   "cell_type": "markdown",
   "metadata": {},
   "source": [
    "# Basic Signal Processing"
   ]
  },
  {
   "cell_type": "code",
   "execution_count": 1,
   "metadata": {},
   "outputs": [],
   "source": [
    "import matplotlib.pyplot as plt\n",
    "import numpy as np\n",
    "%matplotlib inline"
   ]
  },
  {
   "cell_type": "markdown",
   "metadata": {},
   "source": [
    "## From Digital to Analog"
   ]
  },
  {
   "cell_type": "markdown",
   "metadata": {},
   "source": [
    "### Digital vs physical frequency\n",
    "\n",
    "**Discrete time:**\n",
    "* n: no physical dimension (just a counter)\n",
    "* periodicity: how many *samples* before pattern repeats\n",
    "\n",
    "**Physical world:**\n",
    "* periodicity: how many *seconds* before pattern repeats\n",
    "* frequency measured in Hz ($s^{-1}$)"
   ]
  },
  {
   "cell_type": "markdown",
   "metadata": {},
   "source": [
    "### Example – PC playing sound\n",
    "\n",
    "**Discrete-time sinusoid:** $x[n]=sin(\\omega_0 n + \\theta)$\n",
    "* set $T_s$, time in seconds between samples\n",
    "* periodicity of $M$ samples $\\rightarrow$ periodicity of $MT_s$ seconds\n",
    "* real world frequency: $f=\\frac{1}{MT_s}Hz$\n",
    "* usually we choose $F_s$ the number of samples per second\n",
    "* $T_s = 1/F_s$\n",
    "\n",
    "E.g for a typical value of $F_s=48000$, $T_s\\approx 20.8 \\mu s$. If $M=110$\n",
    "\n",
    "$f \\approx 440Hz$"
   ]
  },
  {
   "cell_type": "code",
   "execution_count": 2,
   "metadata": {
    "slideshow": {
     "slide_type": "-"
    }
   },
   "outputs": [],
   "source": [
    "Fs = 48000\n",
    "Ts = 1/Fs\n",
    "M = 110"
   ]
  },
  {
   "cell_type": "code",
   "execution_count": 3,
   "metadata": {},
   "outputs": [
    {
     "data": {
      "text/plain": [
       "436"
      ]
     },
     "execution_count": 3,
     "metadata": {},
     "output_type": "execute_result"
    }
   ],
   "source": [
    "f = round(1/(M*Ts));f"
   ]
  },
  {
   "cell_type": "markdown",
   "metadata": {},
   "source": [
    "Suppose the system clock of PC instead has an associated frequency of $44kHz$. What is the period of a discrete-time sinusoid stored on your computer that corresponds to $A_5(880Hz)$?"
   ]
  },
  {
   "cell_type": "code",
   "execution_count": 4,
   "metadata": {},
   "outputs": [],
   "source": [
    "Fs = 44000\n",
    "Ts = 1/Fs"
   ]
  },
  {
   "cell_type": "markdown",
   "metadata": {},
   "source": [
    "We know that $f=\\frac{1}{MT_s}$. Thus $M=F_s/f$."
   ]
  },
  {
   "cell_type": "code",
   "execution_count": 5,
   "metadata": {},
   "outputs": [
    {
     "data": {
      "text/plain": [
       "50.0"
      ]
     },
     "execution_count": 5,
     "metadata": {},
     "output_type": "execute_result"
    }
   ],
   "source": [
    "f = 880\n",
    "M = Fs/f; M"
   ]
  },
  {
   "cell_type": "markdown",
   "metadata": {},
   "source": [
    "## Building Blocks"
   ]
  },
  {
   "cell_type": "markdown",
   "metadata": {},
   "source": [
    "#### Adder"
   ]
  },
  {
   "cell_type": "code",
   "execution_count": 6,
   "metadata": {},
   "outputs": [],
   "source": [
    "def add_block(x, y):\n",
    "    return x + y"
   ]
  },
  {
   "cell_type": "markdown",
   "metadata": {},
   "source": [
    "#### Multiplier"
   ]
  },
  {
   "cell_type": "code",
   "execution_count": 7,
   "metadata": {},
   "outputs": [],
   "source": [
    "def multiply_block(x, alpha):\n",
    "    return x * alpha"
   ]
  },
  {
   "cell_type": "markdown",
   "metadata": {},
   "source": [
    "#### Arbitrary Delay"
   ]
  },
  {
   "cell_type": "code",
   "execution_count": 8,
   "metadata": {},
   "outputs": [],
   "source": [
    "def delay_block(x, N):\n",
    "    z = range(0,N)\n",
    "    z.append(x)\n",
    "    return z[0:len(x)]"
   ]
  },
  {
   "cell_type": "markdown",
   "metadata": {},
   "source": [
    "### Example: 2-point Moving Average"
   ]
  },
  {
   "cell_type": "markdown",
   "metadata": {},
   "source": [
    "* simple average: $m=\\frac{a+b}{2}$\n",
    "* moving average: take \"local\" average: $y[n]=\\frac{x[n]+x[n-1]}{2}$"
   ]
  },
  {
   "cell_type": "markdown",
   "metadata": {},
   "source": [
    "### Reversing the loop:\n",
    "* $y[n]=x[n]+\\alpha y[n-M]$\n",
    "\n",
    "### Creating loops:\n",
    "* $y[n] = \\alpha y[n-M]+\\overline x[n]$"
   ]
  },
  {
   "cell_type": "markdown",
   "metadata": {},
   "source": [
    "## Music"
   ]
  },
  {
   "cell_type": "markdown",
   "metadata": {},
   "source": [
    "* build a recursion loop with delay of $M$\n",
    "* choose a signal $\\overline x[n]$ that is nonzero only for $0\\leq n < M$\n",
    "* choose a decay factor\n",
    "* input $\\overline x[n]$ to the system\n",
    "* play the output"
   ]
  },
  {
   "cell_type": "markdown",
   "metadata": {},
   "source": [
    "#### Example: Playing a sine wave\n",
    "\n",
    "$M=100$, $\\alpha=1$, $\\overline x[n]=sin(2\\pi n/100)$ for $0 \\leq n < 100$ and zero elsewhere\n"
   ]
  },
  {
   "cell_type": "code",
   "execution_count": 9,
   "metadata": {},
   "outputs": [
    {
     "data": {
      "image/png": "[encoded data removed]",
      "text/plain": [
       "<matplotlib.figure.Figure at 0x10c86aa20>"
      ]
     },
     "metadata": {},
     "output_type": "display_data"
    }
   ],
   "source": [
    "M = 100\n",
    "alpha = 1\n",
    "t = np.arange(0, M)\n",
    "x = np.sin(2*np.pi*(t/M))\n",
    "\n",
    "plt.plot(t,x)\n",
    "plt.show()"
   ]
  },
  {
   "cell_type": "code",
   "execution_count": 11,
   "metadata": {},
   "outputs": [
    {
     "data": {
      "text/plain": [
       "480"
      ]
     },
     "execution_count": 11,
     "metadata": {},
     "output_type": "execute_result"
    }
   ],
   "source": [
    "# TODO: input to the system and play music\n",
    "Fs = 48000\n",
    "Ts = 1/Fs\n",
    "f = round(1/(M*Ts));f"
   ]
  },
  {
   "cell_type": "markdown",
   "metadata": {},
   "source": [
    "* **M** controls frequency (pitch)\n",
    "* **$\\alpha$** controls envelope (decay)\n",
    "* **$\\overline x[n]$** controls color (timbre)"
   ]
  },
  {
   "cell_type": "markdown",
   "metadata": {},
   "source": [
    "#### Example: Playing a proto-violin\n",
    "$M=100$, $\\alpha=0.95$, $\\overline x[n]$: zero-mean sawtooth wave between 0 and 99, zero elsewhere"
   ]
  },
  {
   "cell_type": "code",
   "execution_count": 13,
   "metadata": {},
   "outputs": [],
   "source": [
    "# TODO: match above example\n",
    "M = 100\n",
    "alpha = 0.95"
   ]
  },
  {
   "cell_type": "markdown",
   "metadata": {},
   "source": [
    "#### The Karplus-Strong Algorithm\n",
    "$M=100$, $\\alpha=0.9$, $\\overline x[n]$: 100 random values between 0 and 99, zero elsewhere"
   ]
  },
  {
   "cell_type": "markdown",
   "metadata": {},
   "source": [
    "## Goethe's temperature measurement"
   ]
  },
  {
   "cell_type": "markdown",
   "metadata": {},
   "source": [
    "#### Smoothing the Time-Series\n",
    "\n",
    "* Moving average: \n",
    "$$y[n]=\\frac{1}{N}\\sum^{N-1}_{m=0}x(n-m)$$\n",
    "\n",
    "* N: window of last observations over which average is computed\n",
    "\n",
    "#### A Recursive Method\n",
    "\n",
    "$$y[n]=\\frac{1}{N} \\sum^{N-1}_{m=0}x(n-m)$$\n",
    "\n",
    "$$ y[n]= \\frac{1}{N} x[n] + \\frac{1}{N}\\sum^{N-1}_{m=1}x(n-m)+\\frac{1}{N}x[n-N]-\\frac{1}{N}x[n-N]$$\n",
    "\n",
    "* $y[n-1] = + \\frac{1}{N}\\sum^{N-1}_{m=1}x(n-m)+\\frac{1}{N}x[n-N]$\n",
    "\n",
    "$$ y[n] = y[n-1]+\\frac{1}{N}(x[n]-x[n-N])$$\n"
   ]
  },
  {
   "cell_type": "code",
   "execution_count": null,
   "metadata": {},
   "outputs": [],
   "source": []
  }
 ],
 "metadata": {
  "kernelspec": {
   "display_name": "Python 3",
   "language": "python",
   "name": "python3"
  },
  "language_info": {
   "codemirror_mode": {
    "name": "ipython",
    "version": 3
   },
   "file_extension": ".py",
   "mimetype": "text/x-python",
   "name": "python",
   "nbconvert_exporter": "python",
   "pygments_lexer": "ipython3",
   "version": "3.6.3"
  }
 },
 "nbformat": 4,
 "nbformat_minor": 2
}
