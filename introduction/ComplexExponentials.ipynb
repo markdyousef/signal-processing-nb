{
 "cells": [
  {
   "cell_type": "markdown",
   "metadata": {},
   "source": [
    "# Complex Exponentials"
   ]
  },
  {
   "cell_type": "markdown",
   "metadata": {},
   "source": [
    "$$e^{jx}$$\n",
    "\n",
    "* imaginary unit $j=\\sqrt{-1}$"
   ]
  },
  {
   "cell_type": "markdown",
   "metadata": {},
   "source": [
    "## Oscillations are everywhere\n",
    "\n",
    "* sustainable dynamic systems exhibit oscillatory behavior\n",
    "* intuitively: things that don't move in circles can't last:\n",
    "    * bombs\n",
    "    * rockets\n",
    "    * human beings...\n",
    "    \n",
    "An oscillation is a product of a rotation"
   ]
  },
  {
   "cell_type": "markdown",
   "metadata": {},
   "source": [
    "## The discrete-time oscillatory heartbeat\n",
    "\n",
    "Ingredients:\n",
    "* a frequency $\\omega$ (unit: radians)\n",
    "* an initial phase $\\phi$ (unit: radians)\n",
    "* an amplitude $A$\n",
    "\n",
    "#### Discrete-time sequence:\n",
    "\n",
    "$x[n] = Ae^{j(\\omega n+\\phi)}$ \n",
    "\n",
    "Using Eulers formula to decompose into real and imaginary parts:\n",
    "\n",
    "$x[n]= A[\\cos(\\omega n+\\phi)+j\\sin(\\omega n+\\phi)]$\n",
    "\n",
    "#### Why complex exponentials?\n",
    "* We can use complex numbers in digital systems, so why not?\n",
    "* It makes sense: every sinusoid can always be written as a sum of sine and cosine\n",
    "* Math is simpler: trigonometry becomes algebra\n",
    "\n",
    "#### The advantages of complex exponentials\n",
    "\n",
    "**Example: change the phase of a cosine the \"old-school\" way**\n",
    "\n",
    "$$cos(\\omega n + \\phi) = a\\cos(\\omega n)-b\\sin(\\omega n)$$ \n",
    "$$a=\\cos\\phi, b=\\sin\\phi$$\n",
    "\n",
    "* we have to remember complex trigonometric formulas\n",
    "* we have to carry more terms in our equations\n",
    "\n",
    "**Example: change the phase of a pure cosine with complex exponentials**\n",
    "\n",
    "$$\\cos(\\omega n + \\phi) = Re\\{e^{j(\\omega n + \\phi)}\\} = Re\\{e^{j\\omega n} e^{j\\phi}\\}$$\n",
    "\n",
    "* sine and cosine \"live\" together\n",
    "* phase shift is simple multiplication\n",
    "* notation is simpler"
   ]
  },
  {
   "cell_type": "markdown",
   "metadata": {},
   "source": [
    "### Complex exponential generating machine\n",
    "\n",
    "        >>Drawing\n",
    "\n",
    "\n",
    "* Not every sinusoid is periodic in discrete time – high probability you will not end up on previous points in rotation\n",
    "\n",
    "$e^{j\\omega n} periodic in n \\Leftrightarrow \\omega=\\frac{M}{N}2\\pi, M, N \\in \\textbf N$\n",
    "\n",
    "* One point, many names: **Aliasing**\n",
    "    * Puts a limit on how fast we can move around the unit circle"
   ]
  },
  {
   "cell_type": "code",
   "execution_count": null,
   "metadata": {},
   "outputs": [],
   "source": []
  }
 ],
 "metadata": {
  "kernelspec": {
   "display_name": "Python 3",
   "language": "python",
   "name": "python3"
  },
  "language_info": {
   "codemirror_mode": {
    "name": "ipython",
    "version": 3
   },
   "file_extension": ".py",
   "mimetype": "text/x-python",
   "name": "python",
   "nbconvert_exporter": "python",
   "pygments_lexer": "ipython3",
   "version": "3.6.3"
  }
 },
 "nbformat": 4,
 "nbformat_minor": 2
}
