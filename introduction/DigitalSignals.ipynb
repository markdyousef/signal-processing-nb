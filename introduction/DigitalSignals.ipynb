{
 "cells": [
  {
   "cell_type": "markdown",
   "metadata": {},
   "source": [
    "# Digital Signal Processing"
   ]
  },
  {
   "cell_type": "code",
   "execution_count": 34,
   "metadata": {},
   "outputs": [],
   "source": [
    "import matplotlib.pyplot as plt\n",
    "import numpy as np\n",
    "%matplotlib inline"
   ]
  },
  {
   "cell_type": "markdown",
   "metadata": {},
   "source": [
    "## 1. The Digital Paradigm\n",
    "\n",
    "* Discrete time\n",
    "* Discrete values (amplitude)"
   ]
  },
  {
   "cell_type": "markdown",
   "metadata": {},
   "source": [
    "### Time"
   ]
  },
  {
   "cell_type": "code",
   "execution_count": 29,
   "metadata": {},
   "outputs": [],
   "source": [
    "# Example plot\n",
    "t = np.arange(0.0, 1.5, 0.04)\n",
    "s = np.sin(1.2*np.pi*t)"
   ]
  },
  {
   "cell_type": "markdown",
   "metadata": {},
   "source": [
    "#### Average – continuous time"
   ]
  },
  {
   "cell_type": "code",
   "execution_count": 25,
   "metadata": {},
   "outputs": [
    {
     "data": {
      "image/png": "[encoded data removed]",
      "text/plain": [
       "<matplotlib.figure.Figure at 0x1123f04e0>"
      ]
     },
     "metadata": {},
     "output_type": "display_data"
    }
   ],
   "source": [
    "plt.plot(t,s,)\n",
    "plt.show()"
   ]
  },
  {
   "cell_type": "markdown",
   "metadata": {},
   "source": [
    "To calculate the average of the signal, we have to use calculus...\n",
    "\n",
    "\n",
    "$\\overline{x} = \\frac{1}{b-a} \\int_{a}^{b} f(t)dt$\n"
   ]
  },
  {
   "cell_type": "markdown",
   "metadata": {},
   "source": [
    "#### Average - discrete time"
   ]
  },
  {
   "cell_type": "code",
   "execution_count": 31,
   "metadata": {},
   "outputs": [
    {
     "data": {
      "image/png": "[encoded data removed]",
      "text/plain": [
       "<matplotlib.figure.Figure at 0x11230d2b0>"
      ]
     },
     "metadata": {},
     "output_type": "display_data"
    }
   ],
   "source": [
    "plt.scatter(t,s, s=1)\n",
    "plt.show()"
   ]
  },
  {
   "cell_type": "markdown",
   "metadata": {},
   "source": [
    "Calculating the average is much simpler with discrete values.\n",
    "\n",
    "$\\overline{x} = \\frac{1}{N} \\sum_{n=0}^{N-1} x[n] $"
   ]
  },
  {
   "cell_type": "markdown",
   "metadata": {},
   "source": [
    "### Why does it work?"
   ]
  },
  {
   "cell_type": "markdown",
   "metadata": {},
   "source": [
    "#### The Sampling Theorem (1920)\n",
    "\n",
    "Under appropriate \"slowness\" conditions for $x(t)$ we have:\n",
    "\n",
    "$$ x(t) = \\sum_{n=-\\infty}^{\\infty} x[n]sinc(\\frac{t-nT_s}{T_s})$$\n",
    "\n",
    "The relationship between the continous time representation of a signal $x(t)$, and its discrete counterpart $x[n]$ is given by above formula.\n",
    "* We build $x(t)$ as a linear combination of copies of a prototypical function / building block ($sinc(\\frac{t-nT_s}{T_s})$), shifted and scaled by the values of the discrete time sequence ($x[n]$)"
   ]
  },
  {
   "cell_type": "markdown",
   "metadata": {},
   "source": [
    "#### Fourier Transform\n",
    "\n",
    "**Ressources:**\n",
    "* [Visual introduction](https://www.youtube.com/watch?v=spUNpyF58BY)\n",
    "* [Intuitive understanding](https://www.youtube.com/watch?v=FjmwwDHT98c&t=903s)"
   ]
  },
  {
   "cell_type": "markdown",
   "metadata": {},
   "source": [
    "### Values"
   ]
  },
  {
   "cell_type": "markdown",
   "metadata": {},
   "source": [
    "Discrete values are countable, so we can always map a sample onto an integer. If our data is a set of integers, it means that our data is completely abstract and general.\n",
    "\n",
    "** Why/ where is this important?**\n",
    "* Storage\n",
    "* Processing\n",
    "* Transmission"
   ]
  },
  {
   "cell_type": "markdown",
   "metadata": {},
   "source": [
    "## Discrete-time signal"
   ]
  },
  {
   "cell_type": "markdown",
   "metadata": {},
   "source": [
    "Discrete-time signal: a sequence of **complex** numbers\n",
    "\n",
    "* one dimension (for now)\n",
    "* notation: $x[n]$\n",
    "* two-sided sequences: $x: Z \\rightarrow C$\n",
    "* $n$ is a-dimensional \"time\"\n",
    "* analysis: periodic measurement\n",
    "* synthesis: stream of generated samples"
   ]
  },
  {
   "cell_type": "markdown",
   "metadata": {},
   "source": [
    "### Common signals\n",
    "\n",
    "* Delta signal: $x[n]=\\delta [n]$\n",
    "    * sync audio and video in film production\n",
    "* The unit step: $x[n]=u[n]$\n",
    "    * Frankenstein switch\n",
    "* Exponential decay: $x[n]=|a|^n u[n], |a| < 1$\n",
    "    * capacitor discharge, Newton's law of cooling, ...\n",
    "* The sinusoid: $x[n]=sin(\\omega_0 n + \\theta)$"
   ]
  },
  {
   "cell_type": "markdown",
   "metadata": {},
   "source": [
    "### Four signal classes\n",
    "\n",
    "#### Finite-length\n",
    "* sequence notation: $x[n], n=0,1,...,N-1$\n",
    "* vector notation: $x=[x_0, x_1, ..., x_{N-1}]^T$\n",
    "* practical entities, good for numerical packages\n",
    "\n",
    "#### Infinite-length\n",
    "* sequence notation: $x[n], n \\in Z$\n",
    "* abstraction, good for theorems\n",
    "\n",
    "#### Periodic\n",
    "* N-periodic sequence: $\\tilde x[n] = \\tilde x[n+kN], n, k, N \\in Z$\n",
    "* same information as finite-length of length $N$\n",
    "* \"natural\" bridge between finite and infinite lengths\n",
    "\n",
    "#### Finite-support\n",
    "* Finite-support sequence: $\\tilde x[n] = \\big\\{ x[n] \\quad if \\quad 0 \\leq n < N,  0 \\quad otherwise.$ $n\\in Z$\n",
    "* same information as finite-length of length N\n",
    "* another bridge between finite and infinite lengths"
   ]
  },
  {
   "cell_type": "markdown",
   "metadata": {},
   "source": [
    "#### Elementary operators\n",
    "\n",
    "* Scaling: $y[n]=\\alpha x[n]$\n",
    "* Sum: $y[n]=x[n]+z[n]$\n",
    "* Product $y[n]=x[n]*z[n]$\n",
    "* Shift by k (delay): $y[n]=x[n-k]$"
   ]
  },
  {
   "cell_type": "markdown",
   "metadata": {},
   "source": [
    "#### Energy and power"
   ]
  },
  {
   "cell_type": "markdown",
   "metadata": {},
   "source": [
    "**Energy:**\n",
    "$$E_x=\\sum^{\\infty}_{n=-\\infty}|x[n]|^2$$\n",
    "* Energy is the sum of the square magnitude of each element\n",
    "\n",
    "**Power:**\n",
    "$$P_x=\\lim_{N\\rightarrow \\infty} \\frac{1}{2N+1} \\sum_{n=-N}^{N}|x[n]|^2$$\n",
    "* Rate of production of energy for a sequence. Local energy, computed over a window of size ($2N+1$) \\ divided by the size of the window."
   ]
  },
  {
   "cell_type": "code",
   "execution_count": null,
   "metadata": {},
   "outputs": [],
   "source": []
  }
 ],
 "metadata": {
  "kernelspec": {
   "display_name": "Python 3",
   "language": "python",
   "name": "python3"
  },
  "language_info": {
   "codemirror_mode": {
    "name": "ipython",
    "version": 3
   },
   "file_extension": ".py",
   "mimetype": "text/x-python",
   "name": "python",
   "nbconvert_exporter": "python",
   "pygments_lexer": "ipython3",
   "version": "3.6.3"
  }
 },
 "nbformat": 4,
 "nbformat_minor": 2
}
